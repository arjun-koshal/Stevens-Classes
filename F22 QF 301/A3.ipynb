{
 "cells": [
  {
   "cell_type": "markdown",
   "id": "6b6f9ac8",
   "metadata": {},
   "source": [
    "# Question 2 (35pt)\n",
    "\n",
    "## Question 2.1\n",
    "Using the same data, train/test split ratio, and consider the same regression problem as in Question 1.2.\n",
    "Create a feed-forward neural network with a single hidden layer (2 hidden nodes) densely connected to the inputs.\n",
    "You may choose any activation functions you wish."
   ]
  },
  {
   "cell_type": "code",
   "execution_count": null,
   "id": "29121833",
   "metadata": {},
   "outputs": [],
   "source": [
    "%matplotlib inline\n",
    "\n",
    "import numpy as np\n",
    "import random\n",
    "import tensorflow as tf\n",
    "from tensorflow import keras\n",
    "import matplotlib.pyplot as plt\n",
    "\n",
    "CWID = 10459064\n",
    "seed = CWID % 10000\n",
    "\n",
    "random.seed(seed)\n",
    "np.random.seed(seed)\n",
    "tf.random.set_seed(seed)\n",
    "\n",
    "from pandas_datareader.data import DataReader\n",
    "from datetime import datetime\n",
    "\n",
    "myData = DataReader([\"TSLA\",\"AMZN\"],\"yahoo\",datetime(2018,1,1),datetime(2020,12,31)) \n",
    "TSLA = myData[\"Adj Close\"][\"TSLA\"]\n",
    "rTSLA = np.log(TSLA) - np.log(TSLA.shift(1))\n",
    "rTSLA1 = rTSLA.shift(1)\n",
    "rTSLA2 = rTSLA.shift(2)\n",
    "rTSLA = np.vstack((rTSLA,rTSLA1,rTSLA2)).T\n",
    "rTSLA = rTSLA[~np.isnan(rTSLA).any(axis=1), :]\n",
    "\n",
    "AMZN = myData[\"Adj Close\"][\"AMZN\"]\n",
    "rAMZN = np.log(AMZN) - np.log(AMZN.shift(1))\n",
    "rAMZN1 = rAMZN.shift(1)\n",
    "rAMZN2 = rAMZN.shift(2)\n",
    "rAMZN = np.vstack((rAMZN,rAMZN1,rAMZN2)).T\n",
    "rAMZN = rAMZN[~np.isnan(rAMZN).any(axis=1), :]\n",
    "\n",
    "N = np.size(rTSLA,0)\n",
    "train = np.random.choice(int(N) , size=int(0.8*N) , replace=False)\n",
    "\n",
    "Xy = np.hstack((rTSLA,rAMZN))\n",
    "train_Xy = Xy[train,:]\n",
    "train_X = train_Xy[:,[1,2,4,5]]\n",
    "train_y = train_Xy[:,0]\n",
    "test_Xy = np.delete(Xy,train,axis=0)\n",
    "test_X = test_Xy[:,[1,2,4,5]]\n",
    "test_y = test_Xy[:,0]"
   ]
  },
  {
   "cell_type": "markdown",
   "id": "0bdb3fd5",
   "metadata": {},
   "source": [
    "### Question 2.1.2\n",
    "Train this neural network on the training data.  \n",
    "Evaluate the performance of this model with the mean squared error on the test data."
   ]
  },
  {
   "cell_type": "code",
   "execution_count": null,
   "id": "68222d0d",
   "metadata": {},
   "outputs": [],
   "source": [
    "NN = keras.Sequential()\n",
    "NN.add(keras.layers.Dense(2, input_dim=4,activation='relu'))\n",
    "NN.add(keras.layers.Dense(1, activation='linear'))\n",
    "\n",
    "NN.compile(optimizer=keras.optimizers.Adam(),loss='mean_squared_error')\n",
    "\n",
    "history = NN.fit(train_X,train_y,epochs=500,verbose=0)\n",
    "\n",
    "print(history.history['loss'][-1])\n",
    "\n",
    "print(NN.evaluate(test_X , test_y , verbose=0))"
   ]
  },
  {
   "cell_type": "markdown",
   "id": "27b8a65b",
   "metadata": {},
   "source": [
    "## Question 2.2\n",
    "Using the same train/test split and consider the same regression problem as in Question 1.2.\n",
    "Train and test another neural network of your own design."
   ]
  },
  {
   "cell_type": "code",
   "execution_count": null,
   "id": "ad1e0d38",
   "metadata": {},
   "outputs": [],
   "source": [
    "NN2 = keras.Sequential()\n",
    "NN2.add(keras.layers.Dense(10, input_dim=4,activation='tanh'))\n",
    "NN2.add(keras.layers.Dense(10,activation='tanh'))\n",
    "NN2.add(keras.layers.Dense(1, activation='linear'))\n",
    "\n",
    "NN2.compile(optimizer=keras.optimizers.Adam(),loss='mean_squared_error')\n",
    "\n",
    "history2 = NN2.fit(train_X,train_y,epochs=500,verbose=0)\n",
    "\n",
    "print(history2.history['loss'][-1])\n",
    "\n",
    "print(NN2.evaluate(test_X , test_y , verbose=0))"
   ]
  }
 ],
 "metadata": {
  "kernelspec": {
   "display_name": "Python 3",
   "language": "python",
   "name": "python3"
  },
  "language_info": {
   "codemirror_mode": {
    "name": "ipython",
    "version": 3
   },
   "file_extension": ".py",
   "mimetype": "text/x-python",
   "name": "python",
   "nbconvert_exporter": "python",
   "pygments_lexer": "ipython3",
   "version": "3.7.10"
  }
 },
 "nbformat": 4,
 "nbformat_minor": 5
}
